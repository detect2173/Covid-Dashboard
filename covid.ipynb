{
 "cells": [
  {
   "cell_type": "code",
   "execution_count": 2,
   "outputs": [],
   "source": [
    "import pandas as pd"
   ],
   "metadata": {
    "collapsed": false,
    "pycharm": {
     "name": "#%%\n"
    }
   }
  },
  {
   "cell_type": "code",
   "execution_count": 3,
   "outputs": [],
   "source": [
    "url_confirmed = 'https://raw.githubusercontent.com/CSSEGISandData/COVID-19/master/csse_covid_19_data/csse_covid_19_time_series/time_series_covid19_confirmed_global.csv'\n",
    "url_death = 'https://raw.githubusercontent.com/CSSEGISandData/COVID-19/master/csse_covid_19_data/csse_covid_19_time_series/time_series_covid19_deaths_global.csv'\n",
    "url_active = 'https://raw.githubusercontent.com/CSSEGISandData/COVID-19/master/csse_covid_19_data/csse_covid_19_time_series/time_series_covid19_recovered_global.csv'"
   ],
   "metadata": {
    "collapsed": false,
    "pycharm": {
     "name": "#%%\n"
    }
   }
  },
  {
   "cell_type": "code",
   "execution_count": 4,
   "outputs": [
    {
     "data": {
      "text/plain": "    Province/State        Country/Region        Lat        Long  1/22/20  \\\n280            NaN    West Bank and Gaza  31.952200   35.233200        0   \n281            NaN  Winter Olympics 2022  39.904200  116.407400        0   \n282            NaN                 Yemen  15.552727   48.516388        0   \n283            NaN                Zambia -13.133897   27.849332        0   \n284            NaN              Zimbabwe -19.015438   29.154857        0   \n\n     1/23/20  1/24/20  1/25/20  1/26/20  1/27/20  ...  5/22/22  5/23/22  \\\n280        0        0        0        0        0  ...   657456   657573   \n281        0        0        0        0        0  ...      535      535   \n282        0        0        0        0        0  ...    11819    11819   \n283        0        0        0        0        0  ...   321146   321195   \n284        0        0        0        0        0  ...   250642   250702   \n\n     5/24/22  5/25/22  5/26/22  5/27/22  5/28/22  5/29/22  5/30/22  5/31/22  \n280   657573   657573   657573   657573   657573   657573   657573   657705  \n281      535      535      535      535      535      535      535      535  \n282    11819    11819    11819    11819    11819    11819    11822    11822  \n283   321268   321342   321399   321503   321503   321503   321503   321779  \n284   250929   251228   251646   251959   251959   252092   252092   252398  \n\n[5 rows x 865 columns]",
      "text/html": "<div>\n<style scoped>\n    .dataframe tbody tr th:only-of-type {\n        vertical-align: middle;\n    }\n\n    .dataframe tbody tr th {\n        vertical-align: top;\n    }\n\n    .dataframe thead th {\n        text-align: right;\n    }\n</style>\n<table border=\"1\" class=\"dataframe\">\n  <thead>\n    <tr style=\"text-align: right;\">\n      <th></th>\n      <th>Province/State</th>\n      <th>Country/Region</th>\n      <th>Lat</th>\n      <th>Long</th>\n      <th>1/22/20</th>\n      <th>1/23/20</th>\n      <th>1/24/20</th>\n      <th>1/25/20</th>\n      <th>1/26/20</th>\n      <th>1/27/20</th>\n      <th>...</th>\n      <th>5/22/22</th>\n      <th>5/23/22</th>\n      <th>5/24/22</th>\n      <th>5/25/22</th>\n      <th>5/26/22</th>\n      <th>5/27/22</th>\n      <th>5/28/22</th>\n      <th>5/29/22</th>\n      <th>5/30/22</th>\n      <th>5/31/22</th>\n    </tr>\n  </thead>\n  <tbody>\n    <tr>\n      <th>280</th>\n      <td>NaN</td>\n      <td>West Bank and Gaza</td>\n      <td>31.952200</td>\n      <td>35.233200</td>\n      <td>0</td>\n      <td>0</td>\n      <td>0</td>\n      <td>0</td>\n      <td>0</td>\n      <td>0</td>\n      <td>...</td>\n      <td>657456</td>\n      <td>657573</td>\n      <td>657573</td>\n      <td>657573</td>\n      <td>657573</td>\n      <td>657573</td>\n      <td>657573</td>\n      <td>657573</td>\n      <td>657573</td>\n      <td>657705</td>\n    </tr>\n    <tr>\n      <th>281</th>\n      <td>NaN</td>\n      <td>Winter Olympics 2022</td>\n      <td>39.904200</td>\n      <td>116.407400</td>\n      <td>0</td>\n      <td>0</td>\n      <td>0</td>\n      <td>0</td>\n      <td>0</td>\n      <td>0</td>\n      <td>...</td>\n      <td>535</td>\n      <td>535</td>\n      <td>535</td>\n      <td>535</td>\n      <td>535</td>\n      <td>535</td>\n      <td>535</td>\n      <td>535</td>\n      <td>535</td>\n      <td>535</td>\n    </tr>\n    <tr>\n      <th>282</th>\n      <td>NaN</td>\n      <td>Yemen</td>\n      <td>15.552727</td>\n      <td>48.516388</td>\n      <td>0</td>\n      <td>0</td>\n      <td>0</td>\n      <td>0</td>\n      <td>0</td>\n      <td>0</td>\n      <td>...</td>\n      <td>11819</td>\n      <td>11819</td>\n      <td>11819</td>\n      <td>11819</td>\n      <td>11819</td>\n      <td>11819</td>\n      <td>11819</td>\n      <td>11819</td>\n      <td>11822</td>\n      <td>11822</td>\n    </tr>\n    <tr>\n      <th>283</th>\n      <td>NaN</td>\n      <td>Zambia</td>\n      <td>-13.133897</td>\n      <td>27.849332</td>\n      <td>0</td>\n      <td>0</td>\n      <td>0</td>\n      <td>0</td>\n      <td>0</td>\n      <td>0</td>\n      <td>...</td>\n      <td>321146</td>\n      <td>321195</td>\n      <td>321268</td>\n      <td>321342</td>\n      <td>321399</td>\n      <td>321503</td>\n      <td>321503</td>\n      <td>321503</td>\n      <td>321503</td>\n      <td>321779</td>\n    </tr>\n    <tr>\n      <th>284</th>\n      <td>NaN</td>\n      <td>Zimbabwe</td>\n      <td>-19.015438</td>\n      <td>29.154857</td>\n      <td>0</td>\n      <td>0</td>\n      <td>0</td>\n      <td>0</td>\n      <td>0</td>\n      <td>0</td>\n      <td>...</td>\n      <td>250642</td>\n      <td>250702</td>\n      <td>250929</td>\n      <td>251228</td>\n      <td>251646</td>\n      <td>251959</td>\n      <td>251959</td>\n      <td>252092</td>\n      <td>252092</td>\n      <td>252398</td>\n    </tr>\n  </tbody>\n</table>\n<p>5 rows × 865 columns</p>\n</div>"
     },
     "execution_count": 4,
     "metadata": {},
     "output_type": "execute_result"
    }
   ],
   "source": [
    "confirmed = pd.read_csv(url_confirmed)\n",
    "confirmed.tail()\n"
   ],
   "metadata": {
    "collapsed": false,
    "pycharm": {
     "name": "#%%\n"
    }
   }
  },
  {
   "cell_type": "code",
   "execution_count": 5,
   "outputs": [
    {
     "data": {
      "text/plain": "       Province/State        Country/Region        Lat        Long     date  \\\n245380            NaN    West Bank and Gaza  31.952200   35.233200  5/31/22   \n245381            NaN  Winter Olympics 2022  39.904200  116.407400  5/31/22   \n245382            NaN                 Yemen  15.552727   48.516388  5/31/22   \n245383            NaN                Zambia -13.133897   27.849332  5/31/22   \n245384            NaN              Zimbabwe -19.015438   29.154857  5/31/22   \n\n        confirmed  \n245380     657705  \n245381        535  \n245382      11822  \n245383     321779  \n245384     252398  ",
      "text/html": "<div>\n<style scoped>\n    .dataframe tbody tr th:only-of-type {\n        vertical-align: middle;\n    }\n\n    .dataframe tbody tr th {\n        vertical-align: top;\n    }\n\n    .dataframe thead th {\n        text-align: right;\n    }\n</style>\n<table border=\"1\" class=\"dataframe\">\n  <thead>\n    <tr style=\"text-align: right;\">\n      <th></th>\n      <th>Province/State</th>\n      <th>Country/Region</th>\n      <th>Lat</th>\n      <th>Long</th>\n      <th>date</th>\n      <th>confirmed</th>\n    </tr>\n  </thead>\n  <tbody>\n    <tr>\n      <th>245380</th>\n      <td>NaN</td>\n      <td>West Bank and Gaza</td>\n      <td>31.952200</td>\n      <td>35.233200</td>\n      <td>5/31/22</td>\n      <td>657705</td>\n    </tr>\n    <tr>\n      <th>245381</th>\n      <td>NaN</td>\n      <td>Winter Olympics 2022</td>\n      <td>39.904200</td>\n      <td>116.407400</td>\n      <td>5/31/22</td>\n      <td>535</td>\n    </tr>\n    <tr>\n      <th>245382</th>\n      <td>NaN</td>\n      <td>Yemen</td>\n      <td>15.552727</td>\n      <td>48.516388</td>\n      <td>5/31/22</td>\n      <td>11822</td>\n    </tr>\n    <tr>\n      <th>245383</th>\n      <td>NaN</td>\n      <td>Zambia</td>\n      <td>-13.133897</td>\n      <td>27.849332</td>\n      <td>5/31/22</td>\n      <td>321779</td>\n    </tr>\n    <tr>\n      <th>245384</th>\n      <td>NaN</td>\n      <td>Zimbabwe</td>\n      <td>-19.015438</td>\n      <td>29.154857</td>\n      <td>5/31/22</td>\n      <td>252398</td>\n    </tr>\n  </tbody>\n</table>\n</div>"
     },
     "execution_count": 5,
     "metadata": {},
     "output_type": "execute_result"
    }
   ],
   "source": [
    "date1 = confirmed.columns[4:]\n",
    "total_confirmed = confirmed.melt(id_vars=['Province/State', 'Country/Region','Lat', 'Long'], value_vars=date1, var_name = 'date', value_name = 'confirmed')\n",
    "total_confirmed.tail()"
   ],
   "metadata": {
    "collapsed": false,
    "pycharm": {
     "name": "#%%\n"
    }
   }
  },
  {
   "cell_type": "code",
   "execution_count": 6,
   "outputs": [],
   "source": [
    "death = pd.read_csv(url_death)"
   ],
   "metadata": {
    "collapsed": false,
    "pycharm": {
     "name": "#%%\n"
    }
   }
  },
  {
   "cell_type": "code",
   "execution_count": 7,
   "outputs": [
    {
     "data": {
      "text/plain": "       Province/State        Country/Region        Lat        Long     date  \\\n245380            NaN    West Bank and Gaza  31.952200   35.233200  5/31/22   \n245381            NaN  Winter Olympics 2022  39.904200  116.407400  5/31/22   \n245382            NaN                 Yemen  15.552727   48.516388  5/31/22   \n245383            NaN                Zambia -13.133897   27.849332  5/31/22   \n245384            NaN              Zimbabwe -19.015438   29.154857  5/31/22   \n\n        death  \n245380   5660  \n245381      0  \n245382   2149  \n245383   3987  \n245384   5503  ",
      "text/html": "<div>\n<style scoped>\n    .dataframe tbody tr th:only-of-type {\n        vertical-align: middle;\n    }\n\n    .dataframe tbody tr th {\n        vertical-align: top;\n    }\n\n    .dataframe thead th {\n        text-align: right;\n    }\n</style>\n<table border=\"1\" class=\"dataframe\">\n  <thead>\n    <tr style=\"text-align: right;\">\n      <th></th>\n      <th>Province/State</th>\n      <th>Country/Region</th>\n      <th>Lat</th>\n      <th>Long</th>\n      <th>date</th>\n      <th>death</th>\n    </tr>\n  </thead>\n  <tbody>\n    <tr>\n      <th>245380</th>\n      <td>NaN</td>\n      <td>West Bank and Gaza</td>\n      <td>31.952200</td>\n      <td>35.233200</td>\n      <td>5/31/22</td>\n      <td>5660</td>\n    </tr>\n    <tr>\n      <th>245381</th>\n      <td>NaN</td>\n      <td>Winter Olympics 2022</td>\n      <td>39.904200</td>\n      <td>116.407400</td>\n      <td>5/31/22</td>\n      <td>0</td>\n    </tr>\n    <tr>\n      <th>245382</th>\n      <td>NaN</td>\n      <td>Yemen</td>\n      <td>15.552727</td>\n      <td>48.516388</td>\n      <td>5/31/22</td>\n      <td>2149</td>\n    </tr>\n    <tr>\n      <th>245383</th>\n      <td>NaN</td>\n      <td>Zambia</td>\n      <td>-13.133897</td>\n      <td>27.849332</td>\n      <td>5/31/22</td>\n      <td>3987</td>\n    </tr>\n    <tr>\n      <th>245384</th>\n      <td>NaN</td>\n      <td>Zimbabwe</td>\n      <td>-19.015438</td>\n      <td>29.154857</td>\n      <td>5/31/22</td>\n      <td>5503</td>\n    </tr>\n  </tbody>\n</table>\n</div>"
     },
     "execution_count": 7,
     "metadata": {},
     "output_type": "execute_result"
    }
   ],
   "source": [
    "date2 = death.columns[4:]\n",
    "total_death = death.melt(id_vars=['Province/State', 'Country/Region','Lat', 'Long'], value_vars=date2, var_name = 'date', value_name = 'death')\n",
    "total_death.tail()"
   ],
   "metadata": {
    "collapsed": false,
    "pycharm": {
     "name": "#%%\n"
    }
   }
  },
  {
   "cell_type": "code",
   "execution_count": 8,
   "outputs": [],
   "source": [
    "recovered = pd.read_csv(url_active)"
   ],
   "metadata": {
    "collapsed": false,
    "pycharm": {
     "name": "#%%\n"
    }
   }
  },
  {
   "cell_type": "code",
   "execution_count": 9,
   "outputs": [
    {
     "data": {
      "text/plain": "       Province/State        Country/Region        Lat        Long     date  \\\n232465            NaN    West Bank and Gaza  31.952200   35.233200  5/31/22   \n232466            NaN  Winter Olympics 2022  39.904200  116.407400  5/31/22   \n232467            NaN                 Yemen  15.552727   48.516388  5/31/22   \n232468            NaN                Zambia -13.133897   27.849332  5/31/22   \n232469            NaN              Zimbabwe -19.015438   29.154857  5/31/22   \n\n        recovered  \n232465          0  \n232466          0  \n232467          0  \n232468          0  \n232469          0  ",
      "text/html": "<div>\n<style scoped>\n    .dataframe tbody tr th:only-of-type {\n        vertical-align: middle;\n    }\n\n    .dataframe tbody tr th {\n        vertical-align: top;\n    }\n\n    .dataframe thead th {\n        text-align: right;\n    }\n</style>\n<table border=\"1\" class=\"dataframe\">\n  <thead>\n    <tr style=\"text-align: right;\">\n      <th></th>\n      <th>Province/State</th>\n      <th>Country/Region</th>\n      <th>Lat</th>\n      <th>Long</th>\n      <th>date</th>\n      <th>recovered</th>\n    </tr>\n  </thead>\n  <tbody>\n    <tr>\n      <th>232465</th>\n      <td>NaN</td>\n      <td>West Bank and Gaza</td>\n      <td>31.952200</td>\n      <td>35.233200</td>\n      <td>5/31/22</td>\n      <td>0</td>\n    </tr>\n    <tr>\n      <th>232466</th>\n      <td>NaN</td>\n      <td>Winter Olympics 2022</td>\n      <td>39.904200</td>\n      <td>116.407400</td>\n      <td>5/31/22</td>\n      <td>0</td>\n    </tr>\n    <tr>\n      <th>232467</th>\n      <td>NaN</td>\n      <td>Yemen</td>\n      <td>15.552727</td>\n      <td>48.516388</td>\n      <td>5/31/22</td>\n      <td>0</td>\n    </tr>\n    <tr>\n      <th>232468</th>\n      <td>NaN</td>\n      <td>Zambia</td>\n      <td>-13.133897</td>\n      <td>27.849332</td>\n      <td>5/31/22</td>\n      <td>0</td>\n    </tr>\n    <tr>\n      <th>232469</th>\n      <td>NaN</td>\n      <td>Zimbabwe</td>\n      <td>-19.015438</td>\n      <td>29.154857</td>\n      <td>5/31/22</td>\n      <td>0</td>\n    </tr>\n  </tbody>\n</table>\n</div>"
     },
     "execution_count": 9,
     "metadata": {},
     "output_type": "execute_result"
    }
   ],
   "source": [
    "date3 = recovered.columns[4:]\n",
    "total_recovered = recovered.melt(id_vars=['Province/State', 'Country/Region','Lat', 'Long'], value_vars=date3, var_name = 'date', value_name = 'recovered')\n",
    "total_recovered.tail()"
   ],
   "metadata": {
    "collapsed": false,
    "pycharm": {
     "name": "#%%\n"
    }
   }
  },
  {
   "cell_type": "code",
   "execution_count": 10,
   "outputs": [
    {
     "data": {
      "text/plain": "  Province/State Country/Region       Lat       Long     date  confirmed  \\\n0            NaN    Afghanistan  33.93911  67.709953  1/22/20          0   \n1            NaN        Albania  41.15330  20.168300  1/22/20          0   \n2            NaN        Algeria  28.03390   1.659600  1/22/20          0   \n3            NaN        Andorra  42.50630   1.521800  1/22/20          0   \n4            NaN         Angola -11.20270  17.873900  1/22/20          0   \n\n   death  \n0      0  \n1      0  \n2      0  \n3      0  \n4      0  ",
      "text/html": "<div>\n<style scoped>\n    .dataframe tbody tr th:only-of-type {\n        vertical-align: middle;\n    }\n\n    .dataframe tbody tr th {\n        vertical-align: top;\n    }\n\n    .dataframe thead th {\n        text-align: right;\n    }\n</style>\n<table border=\"1\" class=\"dataframe\">\n  <thead>\n    <tr style=\"text-align: right;\">\n      <th></th>\n      <th>Province/State</th>\n      <th>Country/Region</th>\n      <th>Lat</th>\n      <th>Long</th>\n      <th>date</th>\n      <th>confirmed</th>\n      <th>death</th>\n    </tr>\n  </thead>\n  <tbody>\n    <tr>\n      <th>0</th>\n      <td>NaN</td>\n      <td>Afghanistan</td>\n      <td>33.93911</td>\n      <td>67.709953</td>\n      <td>1/22/20</td>\n      <td>0</td>\n      <td>0</td>\n    </tr>\n    <tr>\n      <th>1</th>\n      <td>NaN</td>\n      <td>Albania</td>\n      <td>41.15330</td>\n      <td>20.168300</td>\n      <td>1/22/20</td>\n      <td>0</td>\n      <td>0</td>\n    </tr>\n    <tr>\n      <th>2</th>\n      <td>NaN</td>\n      <td>Algeria</td>\n      <td>28.03390</td>\n      <td>1.659600</td>\n      <td>1/22/20</td>\n      <td>0</td>\n      <td>0</td>\n    </tr>\n    <tr>\n      <th>3</th>\n      <td>NaN</td>\n      <td>Andorra</td>\n      <td>42.50630</td>\n      <td>1.521800</td>\n      <td>1/22/20</td>\n      <td>0</td>\n      <td>0</td>\n    </tr>\n    <tr>\n      <th>4</th>\n      <td>NaN</td>\n      <td>Angola</td>\n      <td>-11.20270</td>\n      <td>17.873900</td>\n      <td>1/22/20</td>\n      <td>0</td>\n      <td>0</td>\n    </tr>\n  </tbody>\n</table>\n</div>"
     },
     "execution_count": 10,
     "metadata": {},
     "output_type": "execute_result"
    }
   ],
   "source": [
    "covid_data = total_confirmed.merge(right = total_death, how='left', on=['Province/State','Country/Region','Lat','Long','date'])\n",
    "covid_data.head()"
   ],
   "metadata": {
    "collapsed": false,
    "pycharm": {
     "name": "#%%\n"
    }
   }
  },
  {
   "cell_type": "code",
   "execution_count": 11,
   "outputs": [
    {
     "data": {
      "text/plain": "  Province/State Country/Region       Lat       Long     date  confirmed  \\\n0            NaN    Afghanistan  33.93911  67.709953  1/22/20          0   \n1            NaN        Albania  41.15330  20.168300  1/22/20          0   \n2            NaN        Algeria  28.03390   1.659600  1/22/20          0   \n3            NaN        Andorra  42.50630   1.521800  1/22/20          0   \n4            NaN         Angola -11.20270  17.873900  1/22/20          0   \n\n   death  recovered  \n0      0        0.0  \n1      0        0.0  \n2      0        0.0  \n3      0        0.0  \n4      0        0.0  ",
      "text/html": "<div>\n<style scoped>\n    .dataframe tbody tr th:only-of-type {\n        vertical-align: middle;\n    }\n\n    .dataframe tbody tr th {\n        vertical-align: top;\n    }\n\n    .dataframe thead th {\n        text-align: right;\n    }\n</style>\n<table border=\"1\" class=\"dataframe\">\n  <thead>\n    <tr style=\"text-align: right;\">\n      <th></th>\n      <th>Province/State</th>\n      <th>Country/Region</th>\n      <th>Lat</th>\n      <th>Long</th>\n      <th>date</th>\n      <th>confirmed</th>\n      <th>death</th>\n      <th>recovered</th>\n    </tr>\n  </thead>\n  <tbody>\n    <tr>\n      <th>0</th>\n      <td>NaN</td>\n      <td>Afghanistan</td>\n      <td>33.93911</td>\n      <td>67.709953</td>\n      <td>1/22/20</td>\n      <td>0</td>\n      <td>0</td>\n      <td>0.0</td>\n    </tr>\n    <tr>\n      <th>1</th>\n      <td>NaN</td>\n      <td>Albania</td>\n      <td>41.15330</td>\n      <td>20.168300</td>\n      <td>1/22/20</td>\n      <td>0</td>\n      <td>0</td>\n      <td>0.0</td>\n    </tr>\n    <tr>\n      <th>2</th>\n      <td>NaN</td>\n      <td>Algeria</td>\n      <td>28.03390</td>\n      <td>1.659600</td>\n      <td>1/22/20</td>\n      <td>0</td>\n      <td>0</td>\n      <td>0.0</td>\n    </tr>\n    <tr>\n      <th>3</th>\n      <td>NaN</td>\n      <td>Andorra</td>\n      <td>42.50630</td>\n      <td>1.521800</td>\n      <td>1/22/20</td>\n      <td>0</td>\n      <td>0</td>\n      <td>0.0</td>\n    </tr>\n    <tr>\n      <th>4</th>\n      <td>NaN</td>\n      <td>Angola</td>\n      <td>-11.20270</td>\n      <td>17.873900</td>\n      <td>1/22/20</td>\n      <td>0</td>\n      <td>0</td>\n      <td>0.0</td>\n    </tr>\n  </tbody>\n</table>\n</div>"
     },
     "execution_count": 11,
     "metadata": {},
     "output_type": "execute_result"
    }
   ],
   "source": [
    "covid_data = covid_data.merge(right = total_recovered, how='left', on=['Province/State','Country/Region','Lat','Long','date'])\n",
    "covid_data.head()"
   ],
   "metadata": {
    "collapsed": false,
    "pycharm": {
     "name": "#%%\n"
    }
   }
  },
  {
   "cell_type": "code",
   "execution_count": 12,
   "outputs": [],
   "source": [
    "covid_data['date'] = pd.to_datetime(covid_data['date'])"
   ],
   "metadata": {
    "collapsed": false,
    "pycharm": {
     "name": "#%%\n"
    }
   }
  },
  {
   "cell_type": "code",
   "execution_count": 17,
   "outputs": [],
   "source": [
    "covid_data['recovered'] = covid_data['recovered'].fillna(0)"
   ],
   "metadata": {
    "collapsed": false,
    "pycharm": {
     "name": "#%%\n"
    }
   }
  },
  {
   "cell_type": "code",
   "execution_count": 13,
   "outputs": [
    {
     "data": {
      "text/plain": "  Province/State Country/Region       Lat       Long       date  confirmed  \\\n0            NaN    Afghanistan  33.93911  67.709953 2020-01-22          0   \n1            NaN        Albania  41.15330  20.168300 2020-01-22          0   \n2            NaN        Algeria  28.03390   1.659600 2020-01-22          0   \n3            NaN        Andorra  42.50630   1.521800 2020-01-22          0   \n4            NaN         Angola -11.20270  17.873900 2020-01-22          0   \n\n   death  recovered  \n0      0        0.0  \n1      0        0.0  \n2      0        0.0  \n3      0        0.0  \n4      0        0.0  ",
      "text/html": "<div>\n<style scoped>\n    .dataframe tbody tr th:only-of-type {\n        vertical-align: middle;\n    }\n\n    .dataframe tbody tr th {\n        vertical-align: top;\n    }\n\n    .dataframe thead th {\n        text-align: right;\n    }\n</style>\n<table border=\"1\" class=\"dataframe\">\n  <thead>\n    <tr style=\"text-align: right;\">\n      <th></th>\n      <th>Province/State</th>\n      <th>Country/Region</th>\n      <th>Lat</th>\n      <th>Long</th>\n      <th>date</th>\n      <th>confirmed</th>\n      <th>death</th>\n      <th>recovered</th>\n    </tr>\n  </thead>\n  <tbody>\n    <tr>\n      <th>0</th>\n      <td>NaN</td>\n      <td>Afghanistan</td>\n      <td>33.93911</td>\n      <td>67.709953</td>\n      <td>2020-01-22</td>\n      <td>0</td>\n      <td>0</td>\n      <td>0.0</td>\n    </tr>\n    <tr>\n      <th>1</th>\n      <td>NaN</td>\n      <td>Albania</td>\n      <td>41.15330</td>\n      <td>20.168300</td>\n      <td>2020-01-22</td>\n      <td>0</td>\n      <td>0</td>\n      <td>0.0</td>\n    </tr>\n    <tr>\n      <th>2</th>\n      <td>NaN</td>\n      <td>Algeria</td>\n      <td>28.03390</td>\n      <td>1.659600</td>\n      <td>2020-01-22</td>\n      <td>0</td>\n      <td>0</td>\n      <td>0.0</td>\n    </tr>\n    <tr>\n      <th>3</th>\n      <td>NaN</td>\n      <td>Andorra</td>\n      <td>42.50630</td>\n      <td>1.521800</td>\n      <td>2020-01-22</td>\n      <td>0</td>\n      <td>0</td>\n      <td>0.0</td>\n    </tr>\n    <tr>\n      <th>4</th>\n      <td>NaN</td>\n      <td>Angola</td>\n      <td>-11.20270</td>\n      <td>17.873900</td>\n      <td>2020-01-22</td>\n      <td>0</td>\n      <td>0</td>\n      <td>0.0</td>\n    </tr>\n  </tbody>\n</table>\n</div>"
     },
     "execution_count": 13,
     "metadata": {},
     "output_type": "execute_result"
    }
   ],
   "source": [
    "covid_data.head()"
   ],
   "metadata": {
    "collapsed": false,
    "pycharm": {
     "name": "#%%\n"
    }
   }
  },
  {
   "cell_type": "code",
   "execution_count": 14,
   "outputs": [
    {
     "data": {
      "text/plain": "Province/State    168756\nCountry/Region         0\nLat                 1722\nLong                1722\ndate                   0\nconfirmed              0\ndeath                  0\nrecovered          18081\ndtype: int64"
     },
     "execution_count": 14,
     "metadata": {},
     "output_type": "execute_result"
    }
   ],
   "source": [
    "covid_data.isna().sum()"
   ],
   "metadata": {
    "collapsed": false,
    "pycharm": {
     "name": "#%%\n"
    }
   }
  },
  {
   "cell_type": "code",
   "execution_count": 15,
   "outputs": [],
   "source": [
    "covid_data['active'] = covid_data['confirmed'] - covid_data['death'] - covid_data['recovered']"
   ],
   "metadata": {
    "collapsed": false,
    "pycharm": {
     "name": "#%%\n"
    }
   }
  },
  {
   "cell_type": "code",
   "execution_count": 16,
   "outputs": [
    {
     "data": {
      "text/plain": "       Province/State        Country/Region        Lat        Long       date  \\\n245380            NaN    West Bank and Gaza  31.952200   35.233200 2022-05-31   \n245381            NaN  Winter Olympics 2022  39.904200  116.407400 2022-05-31   \n245382            NaN                 Yemen  15.552727   48.516388 2022-05-31   \n245383            NaN                Zambia -13.133897   27.849332 2022-05-31   \n245384            NaN              Zimbabwe -19.015438   29.154857 2022-05-31   \n\n        confirmed  death  recovered    active  \n245380     657705   5660        0.0  652045.0  \n245381        535      0        0.0     535.0  \n245382      11822   2149        0.0    9673.0  \n245383     321779   3987        0.0  317792.0  \n245384     252398   5503        0.0  246895.0  ",
      "text/html": "<div>\n<style scoped>\n    .dataframe tbody tr th:only-of-type {\n        vertical-align: middle;\n    }\n\n    .dataframe tbody tr th {\n        vertical-align: top;\n    }\n\n    .dataframe thead th {\n        text-align: right;\n    }\n</style>\n<table border=\"1\" class=\"dataframe\">\n  <thead>\n    <tr style=\"text-align: right;\">\n      <th></th>\n      <th>Province/State</th>\n      <th>Country/Region</th>\n      <th>Lat</th>\n      <th>Long</th>\n      <th>date</th>\n      <th>confirmed</th>\n      <th>death</th>\n      <th>recovered</th>\n      <th>active</th>\n    </tr>\n  </thead>\n  <tbody>\n    <tr>\n      <th>245380</th>\n      <td>NaN</td>\n      <td>West Bank and Gaza</td>\n      <td>31.952200</td>\n      <td>35.233200</td>\n      <td>2022-05-31</td>\n      <td>657705</td>\n      <td>5660</td>\n      <td>0.0</td>\n      <td>652045.0</td>\n    </tr>\n    <tr>\n      <th>245381</th>\n      <td>NaN</td>\n      <td>Winter Olympics 2022</td>\n      <td>39.904200</td>\n      <td>116.407400</td>\n      <td>2022-05-31</td>\n      <td>535</td>\n      <td>0</td>\n      <td>0.0</td>\n      <td>535.0</td>\n    </tr>\n    <tr>\n      <th>245382</th>\n      <td>NaN</td>\n      <td>Yemen</td>\n      <td>15.552727</td>\n      <td>48.516388</td>\n      <td>2022-05-31</td>\n      <td>11822</td>\n      <td>2149</td>\n      <td>0.0</td>\n      <td>9673.0</td>\n    </tr>\n    <tr>\n      <th>245383</th>\n      <td>NaN</td>\n      <td>Zambia</td>\n      <td>-13.133897</td>\n      <td>27.849332</td>\n      <td>2022-05-31</td>\n      <td>321779</td>\n      <td>3987</td>\n      <td>0.0</td>\n      <td>317792.0</td>\n    </tr>\n    <tr>\n      <th>245384</th>\n      <td>NaN</td>\n      <td>Zimbabwe</td>\n      <td>-19.015438</td>\n      <td>29.154857</td>\n      <td>2022-05-31</td>\n      <td>252398</td>\n      <td>5503</td>\n      <td>0.0</td>\n      <td>246895.0</td>\n    </tr>\n  </tbody>\n</table>\n</div>"
     },
     "execution_count": 16,
     "metadata": {},
     "output_type": "execute_result"
    }
   ],
   "source": [
    "covid_data.tail()"
   ],
   "metadata": {
    "collapsed": false,
    "pycharm": {
     "name": "#%%\n"
    }
   }
  },
  {
   "cell_type": "code",
   "execution_count": 19,
   "outputs": [
    {
     "data": {
      "text/plain": "'May 31 2022'"
     },
     "execution_count": 19,
     "metadata": {},
     "output_type": "execute_result"
    }
   ],
   "source": [
    "covid_data['date'].iloc[-1].strftime('%B %d %Y')"
   ],
   "metadata": {
    "collapsed": false,
    "pycharm": {
     "name": "#%%\n"
    }
   }
  },
  {
   "cell_type": "code",
   "execution_count": null,
   "outputs": [],
   "source": [],
   "metadata": {
    "collapsed": false,
    "pycharm": {
     "name": "#%%\n"
    }
   }
  }
 ],
 "metadata": {
  "kernelspec": {
   "display_name": "Python 3",
   "language": "python",
   "name": "python3"
  },
  "language_info": {
   "codemirror_mode": {
    "name": "ipython",
    "version": 2
   },
   "file_extension": ".py",
   "mimetype": "text/x-python",
   "name": "python",
   "nbconvert_exporter": "python",
   "pygments_lexer": "ipython2",
   "version": "2.7.6"
  }
 },
 "nbformat": 4,
 "nbformat_minor": 0
}